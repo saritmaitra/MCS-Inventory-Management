{
  "nbformat": 4,
  "nbformat_minor": 0,
  "metadata": {
    "colab": {
      "provenance": []
    },
    "kernelspec": {
      "name": "python3",
      "display_name": "Python 3"
    },
    "language_info": {
      "name": "python"
    }
  },
  "cells": [
    {
      "cell_type": "code",
      "source": [
        "pip install scikit-optimize"
      ],
      "metadata": {
        "id": "kubmEMx9WT1m"
      },
      "execution_count": null,
      "outputs": []
    },
    {
      "cell_type": "code",
      "source": [
        "import matplotlib.pyplot as plt\n",
        "from mpl_toolkits.mplot3d import Axes3D\n",
        "plt.rcParams['axes.grid'] = True\n",
        "plt.rcParams['font.family'] = 'serif'\n",
        "plt.rcParams['font.serif'] = ['Times New Roman'] + plt.rcParams['font.serif']\n",
        "import pandas as pd\n",
        "import numpy as np\n",
        "import seaborn as sns\n",
        "import operator\n",
        "import timeit\n",
        "import scipy.stats as st\n",
        "from joblib import Parallel, delayed\n",
        "import scipy.stats as stats\n",
        "from concurrent.futures import ThreadPoolExecutor, as_completed\n",
        "from skopt import gp_minimize\n",
        "from skopt.space import Real, Integer\n",
        "from skopt.utils import use_named_args\n",
        "from scipy.optimize import dual_annealing\n",
        "import warnings\n",
        "warnings.filterwarnings('ignore')"
      ],
      "metadata": {
        "id": "AEp1Ci5nWFuo"
      },
      "execution_count": 14,
      "outputs": []
    },
    {
      "cell_type": "code",
      "source": [
        "summary = {\n",
        "    'Purchase Cost': [12, 7, 6, 37],\n",
        "    'Lead Time': [9, 6, 15, 12],\n",
        "    'Size': [0.57, 0.05, 0.53, 1.05],\n",
        "    'Selling Price': [16.10, 8.60, 10.20, 68],\n",
        "    'Starting Stock': [2750, 22500, 5200, 1400],\n",
        "    'Ch': [0.2 * 12, 0.2 * 7, 0.2 * 6, 0.2 * 37],\n",
        "    'Co': [1000, 1200, 1000, 1200],\n",
        "    'Probability': [0.76, 1.00, 0.70, 0.23],\n",
        "    'Mean Demand (Lead Time)': [103.50, 648.55, 201.68, 150.06],\n",
        "    'Std. Dev. of Demand (Lead Time)': [37.32, 26.45, 31.08, 3.21],\n",
        "    'Expected Demand (Lead Time)': [705, 3891, 2266, 785],\n",
        "    'Annual demand': [28670, 237370, 51831, 13056]\n",
        "}"
      ],
      "metadata": {
        "id": "Fa9-f1AVaTIV"
      },
      "execution_count": null,
      "outputs": []
    },
    {
      "cell_type": "code",
      "source": [
        "class Product:\n",
        "    def __init__(self, i):\n",
        "        \"\"\"\n",
        "        :type i: int - Product number\n",
        "        \"\"\"\n",
        "        self.i = i\n",
        "        self.unit_cost = summary['Purchase Cost'][i - 1]\n",
        "        self.lead_time = summary['Lead Time'][i - 1]\n",
        "        self.size = summary['Size'][i - 1]\n",
        "        self.selling_price = summary['Selling Price'][i - 1]\n",
        "        self.holding_cost = summary['Ch'][i - 1]\n",
        "        self.ordering_cost = summary['Co'][i - 1]\n",
        "        self.probability = summary['Probability'][i - 1]\n",
        "        self.starting_stock = summary['Starting Stock'][i - 1]\n",
        "        self.demand_lead = summary['Expected Demand (Lead Time)'][i - 1]\n",
        "\n",
        "        mean_demand = summary['Mean Demand (Lead Time)'][i - 1]\n",
        "        std_dev_demand = summary['Std. Dev. of Demand (Lead Time)'][i - 1]\n",
        "        self.mean = np.log(mean_demand) if mean_demand > 0 else 0\n",
        "        self.sd = np.log(std_dev_demand) if std_dev_demand > 0 else 0\n",
        "\n",
        "def daily_demand(mean, sd, probability):\n",
        "    random_num = np.random.uniform(0, 1)\n",
        "    if random_num > probability:\n",
        "        return 0\n",
        "    else:\n",
        "        return np.exp(np.random.normal(mean, sd))\n",
        "\n",
        "def MCS(product, q, r):\n",
        "    inventory = product.starting_stock\n",
        "    mean = product.mean\n",
        "    sd = product.sd\n",
        "    lead_time = product.lead_time\n",
        "    probability = product.probability\n",
        "\n",
        "    order_placed = False\n",
        "    order_time = 0\n",
        "    stock_out = 0\n",
        "\n",
        "    data = {'inv_level': [], 'daily_demand': [], 'units_sold': [], 'units_lost': [], 'orders': []}\n",
        "\n",
        "    for day in range(1, 365):\n",
        "        day_demand = daily_demand(mean, sd, probability)\n",
        "        data['daily_demand'].append(day_demand)\n",
        "\n",
        "        if inventory <= r and not order_placed:\n",
        "            order_placed = True\n",
        "            order_time = day\n",
        "\n",
        "        if order_placed and (day-order_time) == lead_time:\n",
        "            data['orders'].append(q)\n",
        "            inventory += q\n",
        "            order_placed = False\n",
        "            order_time = 0\n",
        "\n",
        "        if inventory - day_demand >= 0:\n",
        "            data['units_sold'].append(day_demand)\n",
        "            inventory -= day_demand\n",
        "        elif inventory - day_demand < 0:\n",
        "            data['units_sold'].append(inventory)\n",
        "            data['units_lost'].append(day_demand - inventory)\n",
        "            inventory = 0\n",
        "            stock_out += 1\n",
        "\n",
        "        data['inv_level'].append(inventory)\n",
        "\n",
        "    return data\n",
        "\n",
        "def profit_calculation(data, product):\n",
        "    unit_cost = product.unit_cost\n",
        "    selling_price = product.selling_price\n",
        "    holding_cost = product.holding_cost\n",
        "    order_cost = product.ordering_cost\n",
        "    size = product.size\n",
        "    days = 365\n",
        "\n",
        "    revenue = sum(data['units_sold']) * selling_price\n",
        "    Co = len(data['orders']) * order_cost\n",
        "    Ch = sum(data['inv_level']) * holding_cost * size / days\n",
        "    cost = sum(data['orders']) * unit_cost\n",
        "\n",
        "    profit = revenue - cost - Co - Ch\n",
        "\n",
        "    return profit\n",
        "\n",
        "def simulation(product, q, r, num_simulations = 50):\n",
        "    profit_list = []\n",
        "    orders_lost_list = []\n",
        "    for sim in range(num_simulations):\n",
        "        data = MCS(product, q, r)\n",
        "\n",
        "        profit = profit_calculation(data, product)\n",
        "        profit_list.append(profit)\n",
        "\n",
        "        total_demand = sum(data['daily_demand'])\n",
        "        unsold_orders = sum(data['units_lost'])\n",
        "        orders_lost_list.append(unsold_orders/total_demand)\n",
        "\n",
        "    return profit_list, orders_lost_list\n",
        "\n",
        "def ContinuousReview(product, q_guess, r_guess):\n",
        "    q_low = q_guess - 1000\n",
        "    q_high = q_guess + 1000\n",
        "    q_range = [i for i in range(int(q_low), int(q_high), 10)]\n",
        "\n",
        "    r_low = r_guess - 300\n",
        "    r_high = r_guess + 300\n",
        "    r_range = [i for i in range(int(r_low), int(r_high), 10)]\n",
        "\n",
        "    review_dict = {}\n",
        "\n",
        "    for q in q_range:\n",
        "        for r in r_range:\n",
        "            p_list, o_list, _ = simulation(product, q, r)\n",
        "            review_dict[(q, r)] = (\n",
        "                np.mean(p_list), np.quantile(p_list, 0.05), np.quantile(p_list, 0.95), np.std(p_list), np.mean(o_list))\n",
        "\n",
        "    return review_dict"
      ],
      "metadata": {
        "id": "67QjQu4FaXr9"
      },
      "execution_count": 32,
      "outputs": []
    },
    {
      "cell_type": "markdown",
      "source": [
        "## scikit optimize"
      ],
      "metadata": {
        "id": "bYH44yrIaafF"
      }
    },
    {
      "cell_type": "code",
      "source": [
        "spaces = {\n",
        "    1: [Integer(2250, 4000, name='q'), Integer(4000, 4500, name='r')],\n",
        "    2: [Integer(20000, 25000, name='q'), Integer(30000, 35000, name='r')],\n",
        "    3: [Integer(5000, 10000, name='q'), Integer(7000, 8000, name='r')],\n",
        "    4: [Integer(1000, 2000, name='q'), Integer(2000, 3000, name='r')]\n",
        "}\n",
        "\n",
        "def objective(q, r, product_num):\n",
        "    product = Product(product_num)\n",
        "    profit_list, _ = simulation(product, q, r, num_simulations=50)\n",
        "    return -np.mean(profit_list)  # We minimize the negative profit to maximize profit\n",
        "\n",
        "\n",
        "total_profit = 0\n",
        "for i in range(1, 5):\n",
        "    space = spaces[i]\n",
        "\n",
        "    @use_named_args(space)\n",
        "    def objective_with_product(q, r):\n",
        "        return objective(q, r, i)\n",
        "\n",
        "    res = gp_minimize(objective_with_product, space, n_calls=50, random_state=0)\n",
        "    optimal_q = res.x[0]\n",
        "    optimal_r = res.x[1]\n",
        "    expected_profit = -res.fun\n",
        "    total_profit += expected_profit\n",
        "\n",
        "    print(f\"Product {i} - q: {optimal_q}, r: {optimal_r}, Profit: {expected_profit:.2f}\")\n",
        "\n",
        "print(f\"Total profit → {total_profit:.2f}\")"
      ],
      "metadata": {
        "colab": {
          "base_uri": "https://localhost:8080/"
        },
        "id": "ZlUz4wKQZnwG",
        "outputId": "469f0b51-fa5e-4f45-c5bd-27db1d5b5239"
      },
      "execution_count": 34,
      "outputs": [
        {
          "output_type": "stream",
          "name": "stdout",
          "text": [
            "Product 1 - q: 4000, r: 4500, Profit: 536767.78\n",
            "Product 2 - q: 24875, r: 35000, Profit: 1995149.46\n",
            "Product 3 - q: 10000, r: 8000, Profit: 757219.14\n",
            "Product 4 - q: 1794, r: 2902, Profit: 663917.79\n",
            "Total profit → 3953054.18\n"
          ]
        }
      ]
    }
  ]
}